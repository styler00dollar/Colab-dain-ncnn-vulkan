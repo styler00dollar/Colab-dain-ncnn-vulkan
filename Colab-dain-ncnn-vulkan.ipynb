{
  "nbformat": 4,
  "nbformat_minor": 0,
  "metadata": {
    "colab": {
      "name": "Colab-dain-ncnn-vulkan .ipynb",
      "provenance": [],
      "private_outputs": true,
      "collapsed_sections": []
    },
    "kernelspec": {
      "name": "python3",
      "display_name": "Python 3"
    },
    "accelerator": "GPU"
  },
  "cells": [
    {
      "cell_type": "markdown",
      "metadata": {
        "id": "F78H7JkR5c49",
        "colab_type": "text"
      },
      "source": [
        "# Colab-dain-ncnn-vulkan\n",
        "Original repo: [baowenbo/DAIN](https://github.com/baowenbo/DAIN)\n",
        "\n",
        "Vulkan version: [nihui/dain-ncnn-vulkan](https://github.com/nihui/dain-ncnn-vulkan)\n",
        "\n",
        "My fork: [styler00dollar/Colab-dain-ncnn-vulkan](https://github.com/styler00dollar/Colab-dain-ncnn-vulkan)"
      ]
    },
    {
      "cell_type": "code",
      "metadata": {
        "id": "O0fPt2JG4014",
        "colab_type": "code",
        "colab": {}
      },
      "source": [
        "!nvidia-smi"
      ],
      "execution_count": null,
      "outputs": []
    },
    {
      "cell_type": "markdown",
      "metadata": {
        "id": "Gyn9D0Mu4lIj",
        "colab_type": "text"
      },
      "source": [
        "Download ```dain-ncnn-vulkan-artifact-ubuntu-16.04.zip``` [here](https://github.com/nihui/dain-ncnn-vulkan/actions) and put it inside your Google Drive."
      ]
    },
    {
      "cell_type": "code",
      "metadata": {
        "id": "-OapminG4kJV",
        "colab_type": "code",
        "colab": {}
      },
      "source": [
        "# Connect Google Drive\n",
        "from google.colab import drive\n",
        "drive.mount('/content/drive')\n",
        "print('Google Drive connected.')"
      ],
      "execution_count": null,
      "outputs": []
    },
    {
      "cell_type": "code",
      "metadata": {
        "id": "Y7CJ2apU44Vc",
        "colab_type": "code",
        "colab": {}
      },
      "source": [
        "%cd /content/\n",
        "!cp \"/content/drive/My Drive/dain-ncnn-vulkan-artifact-ubuntu-16.04.zip\" \"/content/dain-ncnn-vulkan-artifact-ubuntu-16.04.zip\"\n",
        "!unzip \"/content/dain-ncnn-vulkan-artifact-ubuntu-16.04.zip\"\n",
        "!mkdir /content/input_frames\n",
        "!mkdir /content/output_frames\n",
        "!sudo apt-get install -y libvulkan-dev\n",
        "!mv /content/dain-ncnn-vulkan /content/best/dain-ncnn-vulkan"
      ],
      "execution_count": null,
      "outputs": []
    },
    {
      "cell_type": "markdown",
      "metadata": {
        "id": "tfzO8IJh8Y9h",
        "colab_type": "text"
      },
      "source": [
        "Get the file with wget or upload it manually."
      ]
    },
    {
      "cell_type": "code",
      "metadata": {
        "id": "RF0xXHm05Hi3",
        "colab_type": "code",
        "colab": {}
      },
      "source": [
        "%cd /content/\n",
        "!wget ..."
      ],
      "execution_count": null,
      "outputs": []
    },
    {
      "cell_type": "code",
      "metadata": {
        "id": "iVJdwyE15TMD",
        "colab_type": "code",
        "colab": {}
      },
      "source": [
        "%cd /content/\n",
        "!ffmpeg -i /content/video.webm /content/input_frames/frame_%06d.png\n",
        "%cd /content/best\n",
        "!chmod +x ./dain-ncnn-vulkan\n",
        "!./dain-ncnn-vulkan -i /content/input_frames/ -o /content/output_frames/"
      ],
      "execution_count": null,
      "outputs": []
    },
    {
      "cell_type": "code",
      "metadata": {
        "id": "Q2SiD2495W9B",
        "colab_type": "code",
        "colab": {}
      },
      "source": [
        "!ffprobe /content/video.webm"
      ],
      "execution_count": null,
      "outputs": []
    },
    {
      "cell_type": "markdown",
      "metadata": {
        "id": "kQNs3t5z7ftX",
        "colab_type": "text"
      },
      "source": [
        "Input 2x framerate"
      ]
    },
    {
      "cell_type": "code",
      "metadata": {
        "id": "evoatvnd5YAs",
        "colab_type": "code",
        "colab": {}
      },
      "source": [
        "!ffmpeg -framerate 14 -i /content/output_frames/%06d.png -crf 20 -c:v libx264 -pix_fmt yuv420p /content/output.mp4"
      ],
      "execution_count": null,
      "outputs": []
    }
  ]
}